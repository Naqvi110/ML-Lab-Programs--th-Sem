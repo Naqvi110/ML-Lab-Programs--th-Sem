{
 "cells": [
  {
   "cell_type": "code",
   "execution_count": 1,
   "metadata": {},
   "outputs": [
    {
     "name": "stdout",
     "output_type": "stream",
     "text": [
      "  (0, 20)\t1\n",
      "  (0, 24)\t1\n",
      "  (1, 10)\t1\n",
      "  (1, 21)\t1\n",
      "  (1, 25)\t1\n",
      "  (1, 26)\t1\n",
      "  (1, 35)\t1\n",
      "  (2, 1)\t1\n",
      "  (2, 26)\t1\n",
      "  (2, 35)\t1\n",
      "  (2, 36)\t1\n",
      "  (3, 35)\t1\n",
      "  (4, 3)\t1\n",
      "  (4, 5)\t1\n",
      "  (4, 43)\t1\n",
      "\n",
      "Classification results of testing samples are given below....\n",
      "\n",
      "My boss is horrible ----> pos\n",
      "I do not like the taste of this juice ----> neg\n",
      "I am tired of this stuff ----> neg\n",
      "I can't deal with this ----> pos\n",
      "What an awesome view ----> pos\n",
      "\n",
      ":>>>>>>>>>>:Accuracy Metrics:<<<<<<<<<<:\n",
      "\n",
      "* Accuracy of the classifier is-->: 0.6\n",
      "\n",
      "* Recall------------------------->: 1.0\n",
      "\n",
      "* Precission--------------------->: 0.3333333333333333\n",
      "\n",
      "* confusion Matrix\n",
      " [[2 2]\n",
      " [0 1]]\n"
     ]
    }
   ],
   "source": [
    "import pandas as pd\n",
    "\n",
    "msg = pd.read_csv('p6.csv')\n",
    "X = msg['message']\n",
    "y = msg['label']\n",
    "\n",
    "from sklearn.model_selection import train_test_split\n",
    "xtrain, xtest, ytrain, ytest = train_test_split(X, y)\n",
    "\n",
    "from sklearn.feature_extraction.text import CountVectorizer\n",
    "count_vect = CountVectorizer()\n",
    "xtrain_dtm = count_vect.fit_transform(xtrain)\n",
    "\n",
    "xtest_dtm = count_vect.transform(xtest)\n",
    "print(xtest_dtm)\n",
    "\n",
    "from sklearn.naive_bayes import MultinomialNB\n",
    "clf = MultinomialNB().fit(xtrain_dtm, ytrain)\n",
    "predicted = clf.predict(xtest_dtm)\n",
    "print('\\nClassification results of testing samples are given below....\\n')\n",
    "\n",
    "for doc, p in zip(xtest, predicted):   \n",
    "    pred = 'pos' if p == 1 else 'neg'\n",
    "    print(doc,'---->' , pred)\n",
    "    \n",
    "from sklearn import metrics\n",
    "\n",
    "print('\\n:>>>>>>>>>>:Accuracy Metrics:<<<<<<<<<<:')\n",
    "print('\\n* Accuracy of the classifier is-->:', metrics.accuracy_score(ytest, predicted))\n",
    "print('\\n* Recall------------------------->:', metrics.recall_score(ytest, predicted))\n",
    "print('\\n* Precission--------------------->:', metrics.precision_score(ytest, predicted))\n",
    "print('\\n* confusion Matrix\\n', metrics.confusion_matrix(ytest, predicted))\n",
    "   "
   ]
  },
  {
   "cell_type": "code",
   "execution_count": null,
   "metadata": {},
   "outputs": [],
   "source": []
  }
 ],
 "metadata": {
  "kernelspec": {
   "display_name": "Python 3",
   "language": "python",
   "name": "python3"
  },
  "language_info": {
   "codemirror_mode": {
    "name": "ipython",
    "version": 3
   },
   "file_extension": ".py",
   "mimetype": "text/x-python",
   "name": "python",
   "nbconvert_exporter": "python",
   "pygments_lexer": "ipython3",
   "version": "3.8.3"
  }
 },
 "nbformat": 4,
 "nbformat_minor": 4
}
