{
 "cells": [
  {
   "cell_type": "code",
   "execution_count": 1,
   "metadata": {},
   "outputs": [
    {
     "name": "stdout",
     "output_type": "stream",
     "text": [
      "['sunny', 'warm', 'normal', 'strong', 'warm', 'same', 'no']\n",
      "Initial Hypothesis is= ['0', '0', '0', '0', '0', '0']\n",
      "Hypothesis after row 1  =  ['0', '0', '0', '0', '0', '0']\n",
      "Hypothesis after row 2  =  ['sunny', 'warm', 'high', 'strong', 'warm', 'same']\n",
      "Hypothesis after row 3  =  ['sunny', 'warm', 'high', 'strong', 'warm', 'same']\n",
      "Hypothesis after row 4  =  ['sunny', 'warm', 'high', 'strong', '?', '?']\n"
     ]
    }
   ],
   "source": [
    "f = open('p1.csv','r')\n",
    "lst = f.readline().rstrip('\\n').split(',')\n",
    "print(lst)\n",
    "length=len(lst)\n",
    "f.close();\n",
    "f=open('p1.csv','r')\n",
    "count=1\n",
    "hypo=['0']*(length-1)\n",
    "print(\"Initial Hypothesis is=\",hypo)\n",
    "for value in f:\n",
    "    lst=value.rstrip('\\n').split(',')\n",
    "    if(lst[-1]==\"yes\"):\n",
    "        for i in range(0,length-1):\n",
    "            if(hypo[i]!=lst[i]and hypo[i]!='0'):\n",
    "                hypo[i]='?'\n",
    "            else:\n",
    "                hypo[i]=lst[i]\n",
    "    print(\"Hypothesis after row\",count,\" = \",hypo)\n",
    "    count=count+1;\n",
    "f.close()\n"
   ]
  },
  {
   "cell_type": "code",
   "execution_count": null,
   "metadata": {},
   "outputs": [],
   "source": []
  },
  {
   "cell_type": "code",
   "execution_count": null,
   "metadata": {},
   "outputs": [],
   "source": []
  }
 ],
 "metadata": {
  "kernelspec": {
   "display_name": "Python 3",
   "language": "python",
   "name": "python3"
  },
  "language_info": {
   "codemirror_mode": {
    "name": "ipython",
    "version": 3
   },
   "file_extension": ".py",
   "mimetype": "text/x-python",
   "name": "python",
   "nbconvert_exporter": "python",
   "pygments_lexer": "ipython3",
   "version": "3.8.3"
  }
 },
 "nbformat": 4,
 "nbformat_minor": 4
}
