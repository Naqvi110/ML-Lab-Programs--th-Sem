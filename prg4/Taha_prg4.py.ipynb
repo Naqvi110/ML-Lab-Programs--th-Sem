{
 "cells": [
  {
   "cell_type": "code",
   "execution_count": 1,
   "metadata": {},
   "outputs": [
    {
     "name": "stdout",
     "output_type": "stream",
     "text": [
      "[[92]\n",
      " [86]\n",
      " [89]]\n",
      "Normalised Input: \n",
      " [[0.5        1.        ]\n",
      " [0.75       0.66666667]\n",
      " [1.         0.88888889]]\n",
      "Actual Output: \n",
      " [[0.92]\n",
      " [0.86]\n",
      " [0.89]]\n",
      "Predicted Output: \n",
      " [[0.88950567]\n",
      " [0.88496209]\n",
      " [0.89494002]]\n"
     ]
    }
   ],
   "source": [
    "import numpy as np\n",
    "x = np.array([[2,9], [3,6], [4,8]])\n",
    "y = np.array([[92],[86],[89]])\n",
    "print(y)\n",
    "x = x/np.amax(x,axis=0)\n",
    "y = y/100\n",
    "def sigmoid(x):\n",
    "  return 1/(1 + np.exp(-x))\n",
    "def sigmoid_grad(x):\n",
    "  return x * (1-x)\n",
    "\n",
    "epoch = 1000\n",
    "eta = 0.1\n",
    "input_neurons = 2\n",
    "hidden_neurons = 3\n",
    "output_neurons = 1\n",
    "\n",
    "wh = np.random.uniform(size = (input_neurons, hidden_neurons))\n",
    "bh = np.random.uniform(size = (1,hidden_neurons))\n",
    "wout = np.random.uniform(size = (hidden_neurons, output_neurons))\n",
    "bout = np.random.uniform(size = (1, output_neurons))\n",
    "for i in range(epoch):\n",
    "  h_ip = np.dot(x , wh) + bh\n",
    "  h_act = sigmoid(h_ip)\n",
    "  o_ip = np.dot(h_act, wout) + bout\n",
    "  output = sigmoid(o_ip)\n",
    "  Eo = y - output\n",
    "  outgrad = sigmoid_grad(output)\n",
    "  d_output = Eo * outgrad\n",
    "  Eh = np.dot(d_output , wout.T)\n",
    "  hiddengrad = sigmoid_grad(h_act)\n",
    "  d_hidden = Eh * hiddengrad\n",
    "\n",
    "  wout += np.dot(h_act.T, d_output) * eta\n",
    "  wh += np.dot(x.T, d_hidden) * eta\n",
    "\n",
    "print(\"Normalised Input: \\n\", x)\n",
    "print(\"Actual Output: \\n\", y)\n",
    "print(\"Predicted Output: \\n\", output)"
   ]
  },
  {
   "cell_type": "code",
   "execution_count": null,
   "metadata": {},
   "outputs": [],
   "source": []
  }
 ],
 "metadata": {
  "kernelspec": {
   "display_name": "Python 3",
   "language": "python",
   "name": "python3"
  },
  "language_info": {
   "codemirror_mode": {
    "name": "ipython",
    "version": 3
   },
   "file_extension": ".py",
   "mimetype": "text/x-python",
   "name": "python",
   "nbconvert_exporter": "python",
   "pygments_lexer": "ipython3",
   "version": "3.8.3"
  }
 },
 "nbformat": 4,
 "nbformat_minor": 4
}
